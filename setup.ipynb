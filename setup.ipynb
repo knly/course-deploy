{
 "cells": [
  {
   "cell_type": "markdown",
   "metadata": {},
   "source": [
    "Python Einführungskurs für das Physikalische Anfängerpraktikum der Universität Heidelberg | [Startseite](index.ipynb)\n",
    "\n",
    "---"
   ]
  },
  {
   "cell_type": "markdown",
   "metadata": {},
   "source": [
    "# Python installieren und ausführen\n",
    "\n",
    "Programmiercode ist nur Text. Wir speichern Python Code in `.py` Dateien, doch das ist nur Konvention. Um Python Code auszuführen muss der Code nicht einmal zuvor kompiliert werden, wir müssen ihn nur dem Python Interpreter übergeben. Dieser muss dazu jedoch auf dem System installiert sein."
   ]
  },
  {
   "cell_type": "markdown",
   "metadata": {},
   "source": [
    "## Installation\n",
    "\n",
    "Eine einfache Möglichkeit, den Python Interpreter und wissenschaftliche Packages auf Mac OS X, Linux und Windows zu installieren, ist die [Anaconda](https://www.continuum.io/downloads) Distribution. Auf der Seite findet ihr eine Anleitung zur Installation, sowie ein [kurzes Tutorial](http://conda.pydata.org/docs/test-drive.html) zur Verwendung von Anaconda.\n",
    "\n",
    "Wenn Ihr Erfahrung im Umgang mit der Kommandozeile und Package Managern habt könnt ihr den Python Interpreter auch anderweitig installieren, unter Mac OS X bspw. mit [Homebrew](http://brew.sh). Packages wie `numpy`, `matplotlib` und `scipy` installiert ihr dann mit dem Python Package Manager `pip`. Auch das Jupyter Notebook installiert ihr mit `pip install jupyter`. In der Anaconda Distribution sind diese Packages bereits enthalten.\n",
    "\n",
    "Ihr habt eine funktionsfähige Python Installation wenn ihr in der Kommandozeile den Befehl `python --version` ausführt und eine Versionsnummer erhaltet. Nun habt ihr viele Möglichkeiten, Python Code auszuführen:"
   ]
  },
  {
   "cell_type": "markdown",
   "metadata": {},
   "source": [
    "## Python Code in der Shell und in Skripten ausführen\n",
    "\n",
    "Um eure Python Installation zu testen könnt ihr die _Python Shell_ öffnen, indem ihr in der Kommandozeile einfach `python` ausführt. Nun könnt ihr Python Code schreiben und direkt ausführen. Versucht's mal mit `print(\"Hello World!\")`. In der Shell könnt ihr testen, ob die Packages `numpy`, `matplotlib` und `scipy` installiert sind, indem ihr sie mit `import` versucht zu importieren. Ihr verlasst die Shell mit `exit()`.\n",
    "\n",
    "Natürlich eignet sich die Shell nicht für ernsthaftes Programmieren. Für Skripte oder größere Programme, die Aufgaben ausführen sollen, schreiben wir den Code daher in `.py` Textdateien. Ein guter Texteditor wie [GitHub's Atom](https://atom.io) oder sogar eine vollwertige Entwicklungsumgebung wie [PyCharm](https://www.jetbrains.com/pycharm/) ist dabei essentiell.\n",
    "\n",
    "Erstellt eine Datei `helloworld.py` mit dem Inhalt `print(\"Hello World!\")`. Nun könnt ihr das Skript in der Kommandozeile ausführen:\n",
    "\n",
    "    python path/to/helloworld.py"
   ]
  },
  {
   "cell_type": "markdown",
   "metadata": {},
   "source": [
    "## Jupyter Notebooks und dieser Kurs\n",
    "\n",
    "Für wissenschaftliche Anwendungen sind Skripte häufig nicht anschaulich genug. Stattdessen verwenden wir [_Jupyter Notebooks_](http://jupyter.org), in denen wir nicht nur Code ausführen sondern auch Text, $\\LaTeX$-Gleichungen, Bilder und mehr hinzufügen können. In diesem Kurs wirst du den Umgang mit Notebooks noch kennenlernen, schließlich sind diese Kursmaterialien selbst Jupyter Notebooks!\n",
    "\n",
    "Das Jupyter Notebook muss dabei immer auf einen _Kernel_ zurückgreifen können, also in unserem Fall eine Python Installation auf dem System. Daher könnt ihr die Kursmaterialien nur interaktiv verwenden, wenn ihr sie [interaktiv startet](http://mybinder.org/repo/uhd-pap/course-deploy) (wobei der Python Kernel dann auf den Servern von http://mybinder.org läuft) oder sie selbst auf eurem Rechner ausführt.\n",
    "\n",
    "Möchtet ihr den Kurs also offline durchführen, könnt ihr die Notebooks einfach [herunterladen](https://github.com/uhd-pap/course-deploy/archive/master.zip). Navigiert dann mit der Kommandozeile in das Kursverzeichnis und installiert die benötigten Packages, die in der `requirements.txt` Datei aufgelistet sind:\n",
    "\n",
    "    pip install -r requirements.txt\n",
    "    \n",
    "Folgende Packages werden damit installiert:"
   ]
  },
  {
   "cell_type": "code",
   "execution_count": null,
   "metadata": {
    "collapsed": false
   },
   "outputs": [],
   "source": [
    "!head requirements.txt"
   ]
  },
  {
   "cell_type": "markdown",
   "metadata": {},
   "source": [
    "Habt ihr `jupyter` über die Anaconda Distribution oder `pip` installiert, könnt ihr mit der Kommandozeile in ein Verzeichnis navigieren und den Befehl\n",
    "\n",
    "    jupyter notebook\n",
    "    \n",
    "ausführen. Es öffnet sich ein Browserfenster, in dem ihr Notebooks verwalten, bearbeiten und ausführen könnt."
   ]
  },
  {
   "cell_type": "markdown",
   "metadata": {},
   "source": [
    "## Jupyter Notebooks im Praktikum\n",
    "\n",
    "Das Format der Jupyter Notebooks eignet sich hervorragend für die Versuchsauswertungen des Physikalischen Anfängerpraktikums. Erstellt einfach einen Ordner für jeden Versuch und erstellt darin ein Jupyter Notebook. Speichert die Messdaten und Bilder ebenfalls in diesem Ordner um sie im Notebook einfach laden zu können. Dann könnt ihr die Auswertung mit Code, Text und Bildern im Notebook durchführen und anschließend ausgedruckt abgeben."
   ]
  },
  {
   "cell_type": "markdown",
   "metadata": {},
   "source": [
    "---\n",
    "[Startseite](index.ipynb) | [**>> 101 - Grundlagen der Programmierung in Python**](101 - Grundlagen der Programmierung in Python.ipynb)"
   ]
  }
 ],
 "metadata": {
  "kernelspec": {
   "display_name": "Python 3",
   "language": "python",
   "name": "python3"
  },
  "language_info": {
   "codemirror_mode": {
    "name": "ipython",
    "version": 3
   },
   "file_extension": ".py",
   "mimetype": "text/x-python",
   "name": "python",
   "nbconvert_exporter": "python",
   "pygments_lexer": "ipython3",
   "version": "3.5.1"
  }
 },
 "nbformat": 4,
 "nbformat_minor": 0
}
