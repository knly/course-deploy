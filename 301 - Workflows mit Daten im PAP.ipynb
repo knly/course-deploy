{
 "cells": [
  {
   "cell_type": "markdown",
   "metadata": {},
   "source": [
    "# 301 - Workflows mit Daten im PAP\n",
    "\n",
    "\n",
    "## Teilt Daten mit eurem Partner\n",
    "\n",
    "Da ihr im PAP mit eurem Partner zusammen arbeitet benötigt ihr ein System, um eure Daten miteinander zu teilen. Achtet darauf, dass eure Daten dabei konsistent bleiben und nicht verloren gehen - schickt sie also bspw. nicht per Email hin und her und tragt sie nicht auf verschiedenen USB-Sticks umher.\n",
    "\n",
    "- Eine einfache Option ist ein Cloud Storage Dienst wie die Uni-interne [HeiBox](https://heibox.uni-heidelberg.de), mit der ihr einen Ordner mit Kommilitonen teilen könnt.\n",
    "- Noch robuster ist, eure Dateien in einem [Git Repository](https://git-scm.com) zu verwalten. Das ist ein Ordner, in dem Git regelmäßig alle Änderungen der Dateien darin speichert, sodass ein konsistenter Versions-Verlauf entsteht. Über einen Dienst wie [GitLab](https://about.gitlab.com/) oder [GitHub](https://www.github.com) könnt ihr das Repository jederzeit mit eurem Partner abgleichen, ohne dass Synchronisierungs-Konflikte entstehen können.\n",
    "\n",
    "\n",
    "Die Universität bietet Studierenden die Möglichkeit ein eigenes Repository zu eröffnen. Auf dem [Werkraum-Wiki](https://werkraum.ixpa.de/wiki/index.php/GitLab) findet ihr weitere Informationen dazu. Falls ihr Hilfe mit git benötigt könnt ihr euch auch an das Werkraum-Team wenden.\n",
    "\n",
    "\n",
    "Git ist die Grundlage weltweiter Softwareentwicklung und wird in der Wissenschaft bereits ebenso viel verwendet. Nutzt also die Gelegenheit, im PAP mit Git und Python zwei der grundlegenden Technologien moderner Wissenschaft zu lernen. Eine Einführung in Git bietet euch [try.github.io](http://try.github.io/). Wenn ihr lieber ohne Kommandozeile arbeitet könnt ihr Git mit der [GitHub Desktop](https://desktop.github.com) App auch mit einer graphischen Oberfläche verwenden.\n",
    "\n",
    "## Speichert Daten getrennt von eurer Analyse\n",
    "\n",
    "In eurem Verzeichnis für das PAP, das ihr mit eurem Partner teilt, legt ihr nun einen Ordner für jeden Versuch an und speichert darin das Jupyter Notebook für diesen Versuch. Schon während der Versuchsdurchführung könnt ihr darin Berechnungen durchführen und Notizen machen.\n",
    "\n",
    "> Im PAP nehmt ihr während eines Versuchs häufig selbst Daten oder verwendet Messgeräte, die Daten in verschiedenen Formaten speichern. Diese Daten repräsentieren alles, was euer Experiment über die Natur herausfindet und bilden damit die objektive Grundlage eurer Analyse. **Wir trennen daher die Daten strikt von der Versuchsauswertung, die diese Daten interpretiert.**\n",
    "\n",
    "Erstellt für manuell genommene Daten demnach eine `.txt` Datei und tragt die Daten in einem konsistenten Format ein, sodass es anschließend leicht eingelesen werden kann.\n",
    "\n",
    "## Formatiert eure Daten konsistent\n",
    "\n",
    "Sinnvoll ist, Spalten durch Tabulatoren zu trennen und in einer Titelzeile die Messgröße und ihre Einheit zu notieren:\n",
    "\n",
    "    t [s] <TAB> x [mm]\n",
    "    0 <TAB> 5.1\n",
    "    1 <TAB> 12.25\n",
    "    2 <TAB> 19.5\n",
    "    3 <TAB> 31.13\n",
    "\n",
    "In den meisten Fällen lesen wir Daten mit [`numpy.loadtxt`](https://docs.scipy.org/doc/numpy/reference/generated/numpy.loadtxt.html) ein. Ein Format wie dieses kann die Funktion ohne Schwierigkeiten lesen, wenn wir mit `skiprows=1` die Titelzeile überspringen:"
   ]
  },
  {
   "cell_type": "code",
   "execution_count": null,
   "metadata": {
    "collapsed": false
   },
   "outputs": [],
   "source": [
    "import numpy as np"
   ]
  },
  {
   "cell_type": "code",
   "execution_count": null,
   "metadata": {
    "collapsed": false
   },
   "outputs": [],
   "source": [
    "np.loadtxt('data/formatted_data.txt', skiprows=1)"
   ]
  },
  {
   "cell_type": "markdown",
   "metadata": {},
   "source": [
    "## Lest beliebige Datensätze ein\n",
    "\n",
    "Die `numpy.loadtxt` Funktion ist flexibel genug, um Daten jeglicher Form einlesen zu können. Schaut euch einfach die Struktur eurer Daten an, indem ihr bspw. die `!head` Funktionalität im Jupyter Notebook verwendet:"
   ]
  },
  {
   "cell_type": "code",
   "execution_count": null,
   "metadata": {
    "collapsed": false
   },
   "outputs": [],
   "source": [
    "!head data/comma_separated_data.txt"
   ]
  },
  {
   "cell_type": "markdown",
   "metadata": {},
   "source": [
    "Diese Daten verwenden bspw. ein Komma statt eines Punktes als Dezimaltrennzeichen. Zieht die Dokumentation der `numpy.loadtxt` Funktion zu Rate, um eine Option zu finden, die Daten einzulesen:"
   ]
  },
  {
   "cell_type": "code",
   "execution_count": null,
   "metadata": {
    "collapsed": false
   },
   "outputs": [],
   "source": [
    "#np.loadtxt?"
   ]
  },
  {
   "cell_type": "markdown",
   "metadata": {},
   "source": [
    "Dem Argument `converters` der Funktion `numpy.loadtxt` können wir in einem Dictionary für jede Spalte eine Funktion angeben, die einen Wert des Datensatzes beliebig verändern kann. Wir ersetzen also das Komma durch einen Punkt und konvertieren den String zu einem Float:"
   ]
  },
  {
   "cell_type": "code",
   "execution_count": null,
   "metadata": {
    "collapsed": false
   },
   "outputs": [],
   "source": [
    "def comma_decimal_to_float(valstr):\n",
    "    return float(valstr.decode(\"utf-8\").replace(',','.'))\n",
    "\n",
    "np.loadtxt('data/comma_separated_data.txt', skiprows=1, converters={ 1: comma_decimal_to_float })"
   ]
  },
  {
   "cell_type": "markdown",
   "metadata": {},
   "source": [
    "Wenn ihr Daten in einem Format vorliegen habt, das `numpy.loadtxt` nicht direkt einlesen kann, erinnert euch daran, dass euch mit Python die Möglichkeiten einer vollwertigen Programmiersprache zur Verfügung stehen. Durch String-Manipulationen könnt ihr die Daten häufig so weit verändern, dass ihr die Daten weiterverarbeiten könnt."
   ]
  },
  {
   "cell_type": "markdown",
   "metadata": {},
   "source": [
    "## Linked Data\n",
    "Falls euch das Thema Linked-Data interessiert schaut euch [Linked-data-for-scientists-with-python](https://github.com/LibrEars/Linked-data-for-scientists-with-python) an, ein Tutorial des Werkraum-Projekts [Science-web-journal](https://github.com/LibrEars/Science-web-journal). Seid euch aber bewusst, dass das Projekt noch in einem frühen Stadium ist."
   ]
  },
  {
   "cell_type": "code",
   "execution_count": null,
   "metadata": {
    "collapsed": true
   },
   "outputs": [],
   "source": []
  }
 ],
 "metadata": {
  "kernelspec": {
   "display_name": "Python 3",
   "language": "python",
   "name": "python3"
  },
  "language_info": {
   "codemirror_mode": {
    "name": "ipython",
    "version": 3
   },
   "file_extension": ".py",
   "mimetype": "text/x-python",
   "name": "python",
   "nbconvert_exporter": "python",
   "pygments_lexer": "ipython3",
   "version": "3.4.2"
  }
 },
 "nbformat": 4,
 "nbformat_minor": 1
}
